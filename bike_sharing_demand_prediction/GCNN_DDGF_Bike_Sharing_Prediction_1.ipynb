{
 "cells": [
  {
   "cell_type": "code",
   "execution_count": 1,
   "metadata": {},
   "outputs": [],
   "source": [
    "import tensorflow as tf\n",
    "import numpy as np\n",
    "import scipy.sparse as sp\n",
    "from scipy.sparse.linalg.eigen.arpack import eigsh\n",
    "import scipy.sparse as sp\n",
    "import pandas as pd\n",
    "import pickle\n",
    "from datetime import timedelta\n",
    "import matplotlib.pyplot as plt\n",
    "from scipy.stats.stats import pearsonr\n"
   ]
  },
  {
   "cell_type": "code",
   "execution_count": 11,
   "metadata": {},
   "outputs": [],
   "source": [
    "file_Name = \"data/NYCBikeHourly272.pickle\"\n",
    "# open the file for writing\n",
    "fileObject = open(file_Name,'rb') \n",
    "hourly_bike = pickle.load(fileObject) \n",
    "hourly_bike = pd.DataFrame(hourly_bike)\n",
    "# results from bikedemandhourly_lstm_weather.ipynb\n",
    "# new station id for the selected 272 stations\n"
   ]
  },
  {
   "cell_type": "code",
   "execution_count": 12,
   "metadata": {},
   "outputs": [],
   "source": [
    "station_list = [0, 2, 3, 7, 8, 9, 11, 12, 27, 32, 33, 34, 38, 39, 40, 42, 43, 44, 46, 48, 52, 53, 54, 58, 59, 61, 62, 64, 65, 67, 68, 69, 74, 79, 80, 81, 82, 83, 84, 86, 87, 88, 89, 90, 91, 92, 93, 94, 95, 96, 97, 98, 104, 108, 111, 112, 115, 120, 121, 122, 124, 127, 130, 131, 133, 134, 135, 136, 138, 141, 142, 143, 145, 146, 150, 153, 154, 155, 156, 157, 158, 159, 160, 161, 162, 163, 164, 165, 166, 167, 169, 170, 171, 172, 173, 174, 176, 177, 178, 179, 180, 181, 182, 185, 186, 187, 188, 189, 195, 197, 198, 199, 200, 201, 204, 205, 206, 207, 208, 209, 210, 212, 214, 216, 219, 220, 221, 226, 242, 245, 249, 251, 252, 255, 257, 258, 263, 267, 273, 274, 275, 276, 280, 281, 282, 284, 290, 292, 295, 298, 299, 305, 306, 307, 308, 311, 316, 318, 320, 321, 322, 323, 327, 335, 340, 341, 342, 344, 345, 347, 348, 349, 353, 359, 361, 369, 371, 372, 393, 396, 397, 403, 404, 408, 410, 412, 414, 415, 416, 422, 429, 432, 434, 435, 438, 443, 446, 447, 448, 449, 450, 451, 452, 453, 455, 456, 457, 458, 459, 460, 467, 472, 475, 476, 478, 479, 480, 481, 482, 483, 484, 485, 486, 487, 488, 489, 490, 491, 492, 493, 495, 496, 497, 498, 499, 500, 501, 502, 503, 504, 506, 508, 509, 510, 511, 512, 514, 515, 516, 517, 518, 519, 520, 521, 522, 523, 534, 535, 537, 539, 540, 541, 542, 544, 545, 546, 547, 548, 549, 550, 553, 554]\n",
    "new_old_stationID = pd.read_csv('data/bike_stations.csv')\n",
    "#new_old_stationID\n",
    "new_old_stationID = new_old_stationID[new_old_stationID['station_id_new'].isin(station_list)]\n",
    "#new_old_stationID\n",
    "new_old_stationID = new_old_stationID.drop_duplicates('station_id_new', keep ='last')\n",
    "new_old_stationID = new_old_stationID.reset_index()\n",
    "new_old_stationID = new_old_stationID[['station_name', 'lat', 'lon']]\n",
    "new_old_stationID['station_id'] = np.arange(272)\n",
    "new_old_stationID.to_csv('data/citi_bike_station_locations.csv')"
   ]
  },
  {
   "cell_type": "code",
   "execution_count": 13,
   "metadata": {},
   "outputs": [],
   "source": []
  },
  {
   "cell_type": "code",
   "execution_count": 15,
   "metadata": {},
   "outputs": [],
   "source": []
  },
  {
   "cell_type": "code",
   "execution_count": null,
   "metadata": {},
   "outputs": [],
   "source": []
  }
 ],
 "metadata": {
  "kernelspec": {
   "display_name": "Python (tf_gpu)",
   "language": "python",
   "name": "tf_gpu"
  },
  "language_info": {
   "codemirror_mode": {
    "name": "ipython",
    "version": 3
   },
   "file_extension": ".py",
   "mimetype": "text/x-python",
   "name": "python",
   "nbconvert_exporter": "python",
   "pygments_lexer": "ipython3",
   "version": "3.6.8"
  }
 },
 "nbformat": 4,
 "nbformat_minor": 2
}
